{
 "cells": [
  {
   "cell_type": "code",
   "execution_count": 493,
   "metadata": {},
   "outputs": [],
   "source": [
    "import pandas as pd\n",
    "import numpy as np\n",
    "from bokeh.plotting import figure, output_file, show"
   ]
  },
  {
   "cell_type": "code",
   "execution_count": 494,
   "metadata": {},
   "outputs": [
    {
     "name": "stdout",
     "output_type": "stream",
     "text": [
      "Y shape is :  699\n"
     ]
    },
    {
     "data": {
      "text/html": [
       "<div>\n",
       "<style scoped>\n",
       "    .dataframe tbody tr th:only-of-type {\n",
       "        vertical-align: middle;\n",
       "    }\n",
       "\n",
       "    .dataframe tbody tr th {\n",
       "        vertical-align: top;\n",
       "    }\n",
       "\n",
       "    .dataframe thead th {\n",
       "        text-align: right;\n",
       "    }\n",
       "</style>\n",
       "<table border=\"1\" class=\"dataframe\">\n",
       "  <thead>\n",
       "    <tr style=\"text-align: right;\">\n",
       "      <th></th>\n",
       "      <th>x</th>\n",
       "      <th>y</th>\n",
       "    </tr>\n",
       "  </thead>\n",
       "  <tbody>\n",
       "    <tr>\n",
       "      <th>0</th>\n",
       "      <td>24.0</td>\n",
       "      <td>21.549452</td>\n",
       "    </tr>\n",
       "    <tr>\n",
       "      <th>1</th>\n",
       "      <td>50.0</td>\n",
       "      <td>47.464463</td>\n",
       "    </tr>\n",
       "    <tr>\n",
       "      <th>2</th>\n",
       "      <td>15.0</td>\n",
       "      <td>17.218656</td>\n",
       "    </tr>\n",
       "    <tr>\n",
       "      <th>3</th>\n",
       "      <td>38.0</td>\n",
       "      <td>36.586398</td>\n",
       "    </tr>\n",
       "    <tr>\n",
       "      <th>4</th>\n",
       "      <td>87.0</td>\n",
       "      <td>87.288984</td>\n",
       "    </tr>\n",
       "  </tbody>\n",
       "</table>\n",
       "</div>"
      ],
      "text/plain": [
       "      x          y\n",
       "0  24.0  21.549452\n",
       "1  50.0  47.464463\n",
       "2  15.0  17.218656\n",
       "3  38.0  36.586398\n",
       "4  87.0  87.288984"
      ]
     },
     "execution_count": 494,
     "metadata": {},
     "output_type": "execute_result"
    }
   ],
   "source": [
    "train_df = pd.read_csv(\"train.csv\")\n",
    "train_df.dropna(inplace=True,axis=0,how='any')\n",
    "#train_df.y.fillna(train_df.y.max(),inplace=True)\n",
    "Y_train = train_df.y\n",
    "X = train_df.x\n",
    "m = Y_train.shape[0]\n",
    "print(\"Y shape is : \" , m)\n",
    "train_df.head()"
   ]
  },
  {
   "cell_type": "code",
   "execution_count": 495,
   "metadata": {},
   "outputs": [],
   "source": [
    "#Plotting data\n",
    "output_file(\"plot.html\")\n",
    "p = figure()\n",
    "p.sizing_mode = 'scale_width'\n",
    "p.circle(train_df.x,train_df.y,size=10,color='red',alpha=0.5)\n",
    "show(p)"
   ]
  },
  {
   "cell_type": "code",
   "execution_count": 496,
   "metadata": {},
   "outputs": [],
   "source": [
    "def computeCost(X,y,theta):\n",
    "    size = y.shape[0]\n",
    "    J = (1/(2*size)) * np.sum((np.matmul(X,theta) - y)**2)\n",
    "    return J"
   ]
  },
  {
   "cell_type": "code",
   "execution_count": 497,
   "metadata": {},
   "outputs": [],
   "source": [
    "def gradientDescent(X,y,theta,alpha,num_iter):\n",
    "    print(\"initial theta shape is : \", theta)\n",
    "    j = []\n",
    "    #print(\"X contains null : \" , np.isnan(Y).any())\n",
    "    for i in range(num_iter):\n",
    "        error = (np.dot(X,theta) - y)\n",
    "        #print(np.isnan(error).any())\n",
    "        theta = theta - ((alpha)*(np.dot(error,X)/y.shape[0]))\n",
    "        j.append(computeCost(X,y,theta))\n",
    "    print(\"theta is : \", theta)\n",
    "        \n",
    "    print(\"Cost is : \" , computeCost(X,y,theta))\n",
    "    return theta,j"
   ]
  },
  {
   "cell_type": "code",
   "execution_count": 498,
   "metadata": {},
   "outputs": [],
   "source": [
    "X = np.transpose(X)"
   ]
  },
  {
   "cell_type": "code",
   "execution_count": 499,
   "metadata": {},
   "outputs": [],
   "source": [
    "X = np.c_[np.ones(m),X]"
   ]
  },
  {
   "cell_type": "code",
   "execution_count": 500,
   "metadata": {},
   "outputs": [
    {
     "name": "stdout",
     "output_type": "stream",
     "text": [
      "(699, 2)\n",
      "35659.0\n",
      "False\n"
     ]
    }
   ],
   "source": [
    "print(X.shape)\n",
    "print(np.sum(X))\n",
    "print(np.isnan(Y_train).any())"
   ]
  },
  {
   "cell_type": "code",
   "execution_count": 512,
   "metadata": {},
   "outputs": [
    {
     "name": "stdout",
     "output_type": "stream",
     "text": [
      "(2,)\n"
     ]
    }
   ],
   "source": [
    "theta = np.ones(X.shape[1])\n",
    "iterations = 100000\n",
    "alphas = [0.00005,0.00003,0.00001]\n",
    "print(theta.shape)"
   ]
  },
  {
   "cell_type": "code",
   "execution_count": 502,
   "metadata": {},
   "outputs": [
    {
     "data": {
      "text/plain": [
       "4.511264121372125"
      ]
     },
     "execution_count": 502,
     "metadata": {},
     "output_type": "execute_result"
    }
   ],
   "source": [
    "computeCost(X,Y_train,theta)"
   ]
  },
  {
   "cell_type": "code",
   "execution_count": null,
   "metadata": {},
   "outputs": [
    {
     "name": "stdout",
     "output_type": "stream",
     "text": [
      "initial theta shape is :  [1. 1.]\n"
     ]
    }
   ],
   "source": [
    "J_dic = {}\n",
    "theta_dic = {}\n",
    "for i,alpha in enumerate(alphas):\n",
    "    theta = np.ones(X.shape[1])\n",
    "    theta,J = gradientDescent(X,Y_train,theta,alpha,iterations)\n",
    "    J_dic[alpha] = J\n",
    "    theta_dic[alpha] = theta"
   ]
  },
  {
   "cell_type": "code",
   "execution_count": 504,
   "metadata": {},
   "outputs": [],
   "source": [
    "#Plotting J against iterations data\n",
    "output_file(\"Jplot.html\")\n",
    "p1 = figure()\n",
    "p1.sizing_mode = 'scale_width'\n",
    "for color, alpha in zip(['red','green','blue','yellow','purple'],alphas):\n",
    "    p1.line(list(range(1,iterations+1)),J_dic[alpha],line_width=2,color=color,\n",
    "            alpha=0.8,muted_color=color, muted_alpha=0.2,legend=str(alpha))\n",
    "p1.xaxis.axis_label = \"Iterations\"\n",
    "p1.yaxis.axis_label = \"J\"\n",
    "p1.legend.location = \"top_right\"\n",
    "p1.legend.click_policy=\"mute\"\n",
    "show(p1)"
   ]
  },
  {
   "cell_type": "code",
   "execution_count": 505,
   "metadata": {},
   "outputs": [],
   "source": [
    "test_df = pd.read_csv(\"test.csv\")\n",
    "test_df.loc[test_df.y.isnull()]\n",
    "X_test = np.transpose(test_df.x)\n",
    "m_test = test_df.y.shape[0]\n",
    "X_test = np.c_[np.ones(m_test),X_test]\n",
    "predict = np.dot(X_test,theta_dic[0.00005])\n",
    "correct = [(i,j) for i, j in zip(test_df.y.values,predict)]"
   ]
  },
  {
   "cell_type": "code",
   "execution_count": 506,
   "metadata": {},
   "outputs": [],
   "source": [
    "def slope_intercept(x,y):\n",
    "    slope = round(theta_dic[0.00005][1],2)\n",
    "    b = np.mean(y) - np.dot(np.mean(x),slope)\n",
    "    b = round(b,2)\n",
    "    return slope,b"
   ]
  },
  {
   "cell_type": "code",
   "execution_count": 507,
   "metadata": {},
   "outputs": [],
   "source": [
    "slope,b = slope_intercept(X, Y_train)"
   ]
  },
  {
   "cell_type": "code",
   "execution_count": 508,
   "metadata": {},
   "outputs": [],
   "source": [
    "reg_line = [np.dot(slope,x) + b for x in train_df.x]"
   ]
  },
  {
   "cell_type": "code",
   "execution_count": 509,
   "metadata": {},
   "outputs": [],
   "source": [
    "#Plotting data\n",
    "output_file(\"plot2.html\")\n",
    "p2 = figure()\n",
    "p2.sizing_mode = 'scale_width'\n",
    "p2.circle(train_df.x,train_df.y,size=10,color='red',alpha=0.5)\n",
    "p2.line(train_df.x,reg_line)\n",
    "show(p2)"
   ]
  }
 ],
 "metadata": {
  "kernelspec": {
   "display_name": "Python 3",
   "language": "python",
   "name": "python3"
  },
  "language_info": {
   "codemirror_mode": {
    "name": "ipython",
    "version": 3
   },
   "file_extension": ".py",
   "mimetype": "text/x-python",
   "name": "python",
   "nbconvert_exporter": "python",
   "pygments_lexer": "ipython3",
   "version": "3.6.4"
  }
 },
 "nbformat": 4,
 "nbformat_minor": 2
}
